{
  "nbformat": 4,
  "nbformat_minor": 0,
  "metadata": {
    "colab": {
      "name": "AI_mukasibanasi.ipynb のコピー",
      "provenance": [],
      "authorship_tag": "ABX9TyOI3Le+nEzgvUbErZOxPYii",
      "include_colab_link": true
    },
    "kernelspec": {
      "name": "python3",
      "display_name": "Python 3"
    },
    "accelerator": "GPU"
  },
  "cells": [
    {
      "cell_type": "markdown",
      "metadata": {
        "id": "view-in-github",
        "colab_type": "text"
      },
      "source": [
        "<a href=\"https://colab.research.google.com/github/holidayF/mysite/blob/master/AI_mukasibanasi_ipynb_%E3%81%AE%E3%82%B3%E3%83%94%E3%83%BC.ipynb\" target=\"_parent\"><img src=\"https://colab.research.google.com/assets/colab-badge.svg\" alt=\"Open In Colab\"/></a>"
      ]
    },
    {
      "cell_type": "code",
      "metadata": {
        "colab": {
          "base_uri": "https://localhost:8080/"
        },
        "id": "DNxHdbHWv3fi",
        "outputId": "42247063-b108-4bfc-e85b-732e9f403ed3"
      },
      "source": [
        "!git clone https://github.com/tanreinama/gpt2-japanese"
      ],
      "execution_count": 2,
      "outputs": [
        {
          "output_type": "stream",
          "text": [
            "Cloning into 'gpt2-japanese'...\n",
            "remote: Enumerating objects: 128, done.\u001b[K\n",
            "remote: Counting objects: 100% (128/128), done.\u001b[K\n",
            "remote: Compressing objects: 100% (87/87), done.\u001b[K\n",
            "remote: Total 169 (delta 60), reused 98 (delta 38), pack-reused 41\u001b[K\n",
            "Receiving objects: 100% (169/169), 1.20 MiB | 9.85 MiB/s, done.\n",
            "Resolving deltas: 100% (79/79), done.\n"
          ],
          "name": "stdout"
        }
      ]
    },
    {
      "cell_type": "code",
      "metadata": {
        "colab": {
          "base_uri": "https://localhost:8080/"
        },
        "id": "sdQ96V_EwGHB",
        "outputId": "882ba93a-45de-4fc3-fb8b-7d2b47eb80a6"
      },
      "source": [
        "%cd gpt2-japanese\n",
        "!pip uninstall tensorflow -y\n",
        "!pip install -r requirements.txt"
      ],
      "execution_count": 3,
      "outputs": [
        {
          "output_type": "stream",
          "text": [
            "/content/gpt2-japanese\n",
            "Uninstalling tensorflow-2.4.0:\n",
            "  Successfully uninstalled tensorflow-2.4.0\n",
            "Requirement already satisfied: tqdm in /usr/local/lib/python3.6/dist-packages (from -r requirements.txt (line 1)) (4.41.1)\n",
            "Requirement already satisfied: numpy in /usr/local/lib/python3.6/dist-packages (from -r requirements.txt (line 2)) (1.19.4)\n",
            "Collecting jaconv\n",
            "  Downloading https://files.pythonhosted.org/packages/b0/9e/cf1353fb3e81a177bb52ca59a0ebee425f084b7298039a7965c5414d2d62/jaconv-0.2.4.tar.gz\n",
            "Collecting tensorflow-gpu==1.15.4\n",
            "\u001b[?25l  Downloading https://files.pythonhosted.org/packages/83/b1/9c0d6640eab34fae38f4dae6b312894f8bc1025b0876b3eae1fe11745a7b/tensorflow_gpu-1.15.4-cp36-cp36m-manylinux2010_x86_64.whl (411.0MB)\n",
            "\u001b[K     |████████████████████████████████| 411.0MB 41kB/s \n",
            "\u001b[?25hCollecting keras-applications>=1.0.8\n",
            "\u001b[?25l  Downloading https://files.pythonhosted.org/packages/71/e3/19762fdfc62877ae9102edf6342d71b28fbfd9dea3d2f96a882ce099b03f/Keras_Applications-1.0.8-py3-none-any.whl (50kB)\n",
            "\u001b[K     |████████████████████████████████| 51kB 7.3MB/s \n",
            "\u001b[?25hRequirement already satisfied: six>=1.10.0 in /usr/local/lib/python3.6/dist-packages (from tensorflow-gpu==1.15.4->-r requirements.txt (line 4)) (1.15.0)\n",
            "Collecting tensorflow-estimator==1.15.1\n",
            "\u001b[?25l  Downloading https://files.pythonhosted.org/packages/de/62/2ee9cd74c9fa2fa450877847ba560b260f5d0fb70ee0595203082dafcc9d/tensorflow_estimator-1.15.1-py2.py3-none-any.whl (503kB)\n",
            "\u001b[K     |████████████████████████████████| 512kB 60.1MB/s \n",
            "\u001b[?25hRequirement already satisfied: keras-preprocessing>=1.0.5 in /usr/local/lib/python3.6/dist-packages (from tensorflow-gpu==1.15.4->-r requirements.txt (line 4)) (1.1.2)\n",
            "Requirement already satisfied: wheel>=0.26; python_version >= \"3\" in /usr/local/lib/python3.6/dist-packages (from tensorflow-gpu==1.15.4->-r requirements.txt (line 4)) (0.36.2)\n",
            "Requirement already satisfied: protobuf>=3.6.1 in /usr/local/lib/python3.6/dist-packages (from tensorflow-gpu==1.15.4->-r requirements.txt (line 4)) (3.12.4)\n",
            "Requirement already satisfied: google-pasta>=0.1.6 in /usr/local/lib/python3.6/dist-packages (from tensorflow-gpu==1.15.4->-r requirements.txt (line 4)) (0.2.0)\n",
            "Collecting tensorboard<1.16.0,>=1.15.0\n",
            "\u001b[?25l  Downloading https://files.pythonhosted.org/packages/1e/e9/d3d747a97f7188f48aa5eda486907f3b345cd409f0a0850468ba867db246/tensorboard-1.15.0-py3-none-any.whl (3.8MB)\n",
            "\u001b[K     |████████████████████████████████| 3.8MB 54.3MB/s \n",
            "\u001b[?25hRequirement already satisfied: grpcio>=1.8.6 in /usr/local/lib/python3.6/dist-packages (from tensorflow-gpu==1.15.4->-r requirements.txt (line 4)) (1.32.0)\n",
            "Requirement already satisfied: opt-einsum>=2.3.2 in /usr/local/lib/python3.6/dist-packages (from tensorflow-gpu==1.15.4->-r requirements.txt (line 4)) (3.3.0)\n",
            "Requirement already satisfied: absl-py>=0.7.0 in /usr/local/lib/python3.6/dist-packages (from tensorflow-gpu==1.15.4->-r requirements.txt (line 4)) (0.10.0)\n",
            "Collecting gast==0.2.2\n",
            "  Downloading https://files.pythonhosted.org/packages/4e/35/11749bf99b2d4e3cceb4d55ca22590b0d7c2c62b9de38ac4a4a7f4687421/gast-0.2.2.tar.gz\n",
            "Requirement already satisfied: termcolor>=1.1.0 in /usr/local/lib/python3.6/dist-packages (from tensorflow-gpu==1.15.4->-r requirements.txt (line 4)) (1.1.0)\n",
            "Requirement already satisfied: wrapt>=1.11.1 in /usr/local/lib/python3.6/dist-packages (from tensorflow-gpu==1.15.4->-r requirements.txt (line 4)) (1.12.1)\n",
            "Requirement already satisfied: astor>=0.6.0 in /usr/local/lib/python3.6/dist-packages (from tensorflow-gpu==1.15.4->-r requirements.txt (line 4)) (0.8.1)\n",
            "Requirement already satisfied: h5py in /usr/local/lib/python3.6/dist-packages (from keras-applications>=1.0.8->tensorflow-gpu==1.15.4->-r requirements.txt (line 4)) (2.10.0)\n",
            "Requirement already satisfied: setuptools in /usr/local/lib/python3.6/dist-packages (from protobuf>=3.6.1->tensorflow-gpu==1.15.4->-r requirements.txt (line 4)) (51.0.0)\n",
            "Requirement already satisfied: markdown>=2.6.8 in /usr/local/lib/python3.6/dist-packages (from tensorboard<1.16.0,>=1.15.0->tensorflow-gpu==1.15.4->-r requirements.txt (line 4)) (3.3.3)\n",
            "Requirement already satisfied: werkzeug>=0.11.15 in /usr/local/lib/python3.6/dist-packages (from tensorboard<1.16.0,>=1.15.0->tensorflow-gpu==1.15.4->-r requirements.txt (line 4)) (1.0.1)\n",
            "Requirement already satisfied: importlib-metadata; python_version < \"3.8\" in /usr/local/lib/python3.6/dist-packages (from markdown>=2.6.8->tensorboard<1.16.0,>=1.15.0->tensorflow-gpu==1.15.4->-r requirements.txt (line 4)) (3.3.0)\n",
            "Requirement already satisfied: zipp>=0.5 in /usr/local/lib/python3.6/dist-packages (from importlib-metadata; python_version < \"3.8\"->markdown>=2.6.8->tensorboard<1.16.0,>=1.15.0->tensorflow-gpu==1.15.4->-r requirements.txt (line 4)) (3.4.0)\n",
            "Requirement already satisfied: typing-extensions>=3.6.4; python_version < \"3.8\" in /usr/local/lib/python3.6/dist-packages (from importlib-metadata; python_version < \"3.8\"->markdown>=2.6.8->tensorboard<1.16.0,>=1.15.0->tensorflow-gpu==1.15.4->-r requirements.txt (line 4)) (3.7.4.3)\n",
            "Building wheels for collected packages: jaconv, gast\n",
            "  Building wheel for jaconv (setup.py) ... \u001b[?25l\u001b[?25hdone\n",
            "  Created wheel for jaconv: filename=jaconv-0.2.4-cp36-none-any.whl size=12286 sha256=bdcf9129b2ef92024e19f0b90a95a10e77a47309cae590fcf12638c4b87386d4\n",
            "  Stored in directory: /root/.cache/pip/wheels/e1/46/f7/85a7f89bd3263423c8530dfed16083f9a142cc0fc78c81ff32\n",
            "  Building wheel for gast (setup.py) ... \u001b[?25l\u001b[?25hdone\n",
            "  Created wheel for gast: filename=gast-0.2.2-cp36-none-any.whl size=7540 sha256=8ce1321ae52a1d0192fcb8adfb5d4d4c809ebf7cf05cbf28622a1fa9553c038c\n",
            "  Stored in directory: /root/.cache/pip/wheels/5c/2e/7e/a1d4d4fcebe6c381f378ce7743a3ced3699feb89bcfbdadadd\n",
            "Successfully built jaconv gast\n",
            "\u001b[31mERROR: tensorflow-probability 0.11.0 has requirement gast>=0.3.2, but you'll have gast 0.2.2 which is incompatible.\u001b[0m\n",
            "\u001b[31mERROR: tensorflow-gpu 1.15.4 has requirement numpy<1.19.0,>=1.16.0, but you'll have numpy 1.19.4 which is incompatible.\u001b[0m\n",
            "Installing collected packages: jaconv, keras-applications, tensorflow-estimator, tensorboard, gast, tensorflow-gpu\n",
            "  Found existing installation: tensorflow-estimator 2.4.0\n",
            "    Uninstalling tensorflow-estimator-2.4.0:\n",
            "      Successfully uninstalled tensorflow-estimator-2.4.0\n",
            "  Found existing installation: tensorboard 2.4.0\n",
            "    Uninstalling tensorboard-2.4.0:\n",
            "      Successfully uninstalled tensorboard-2.4.0\n",
            "  Found existing installation: gast 0.3.3\n",
            "    Uninstalling gast-0.3.3:\n",
            "      Successfully uninstalled gast-0.3.3\n",
            "Successfully installed gast-0.2.2 jaconv-0.2.4 keras-applications-1.0.8 tensorboard-1.15.0 tensorflow-estimator-1.15.1 tensorflow-gpu-1.15.4\n"
          ],
          "name": "stdout"
        }
      ]
    },
    {
      "cell_type": "code",
      "metadata": {
        "colab": {
          "base_uri": "https://localhost:8080/"
        },
        "id": "Cgg9_PvwwGU6",
        "outputId": "79ea5be5-f475-41be-e3ec-1841cb6b3290"
      },
      "source": [
        "!wget https://www.nama.ne.jp/models/gpt2ja-medium.tar.bz2"
      ],
      "execution_count": 4,
      "outputs": [
        {
          "output_type": "stream",
          "text": [
            "--2021-01-05 09:15:52--  https://www.nama.ne.jp/models/gpt2ja-medium.tar.bz2\n",
            "Resolving www.nama.ne.jp (www.nama.ne.jp)... 112.78.112.176\n",
            "Connecting to www.nama.ne.jp (www.nama.ne.jp)|112.78.112.176|:443... connected.\n",
            "HTTP request sent, awaiting response... 200 OK\n",
            "Length: 1231914247 (1.1G) [application/x-bzip2]\n",
            "Saving to: ‘gpt2ja-medium.tar.bz2’\n",
            "\n",
            "gpt2ja-medium.tar.b  92%[=================>  ]   1.06G  2.28MB/s    in 5m 1s   \n",
            "\n",
            "2021-01-05 09:20:54 (3.60 MB/s) - Connection closed at byte 1139263121. Retrying.\n",
            "\n",
            "--2021-01-05 09:20:55--  (try: 2)  https://www.nama.ne.jp/models/gpt2ja-medium.tar.bz2\n",
            "Connecting to www.nama.ne.jp (www.nama.ne.jp)|112.78.112.176|:443... connected.\n",
            "HTTP request sent, awaiting response... 206 Partial Content\n",
            "Length: 1231914247 (1.1G), 92651126 (88M) remaining [application/x-bzip2]\n",
            "Saving to: ‘gpt2ja-medium.tar.bz2’\n",
            "\n",
            "gpt2ja-medium.tar.b 100%[++++++++++++++++++=>]   1.15G  3.58MB/s    in 36s     \n",
            "\n",
            "2021-01-05 09:21:32 (2.42 MB/s) - ‘gpt2ja-medium.tar.bz2’ saved [1231914247/1231914247]\n",
            "\n"
          ],
          "name": "stdout"
        }
      ]
    },
    {
      "cell_type": "code",
      "metadata": {
        "colab": {
          "base_uri": "https://localhost:8080/"
        },
        "id": "YITr5sElxKUZ",
        "outputId": "6b06c1ea-e95d-4482-a08e-cc37ba1b5fd7"
      },
      "source": [
        "!tar xvfj gpt2ja-medium.tar.bz2"
      ],
      "execution_count": 5,
      "outputs": [
        {
          "output_type": "stream",
          "text": [
            "gpt2ja-medium/\n",
            "gpt2ja-medium/model-10410000.index\n",
            "gpt2ja-medium/checkpoint\n",
            "gpt2ja-medium/model-10410000.meta\n",
            "gpt2ja-medium/model-10410000.data-00000-of-00001\n",
            "special_thanks.txt\n"
          ],
          "name": "stdout"
        }
      ]
    },
    {
      "cell_type": "code",
      "metadata": {
        "colab": {
          "base_uri": "https://localhost:8080/"
        },
        "id": "b33EqmH20kf9",
        "outputId": "2f1a0784-2b13-4c5f-f02b-ae573d9ccde4"
      },
      "source": [
        "!python gpt2-generate.py --model gpt2ja-medium --context=\"女の子のポニーテールしゃぶりながら一番気持ち悪いこと言った奴が優勝\""
      ],
      "execution_count": 9,
      "outputs": [
        {
          "output_type": "stream",
          "text": [
            "WARNING:tensorflow:From /content/gpt2-japanese/model.py:147: The name tf.AUTO_REUSE is deprecated. Please use tf.compat.v1.AUTO_REUSE instead.\n",
            "\n",
            "WARNING:tensorflow:From gpt2-generate.py:88: The name tf.ConfigProto is deprecated. Please use tf.compat.v1.ConfigProto instead.\n",
            "\n",
            "WARNING:tensorflow:From gpt2-generate.py:92: The name tf.Session is deprecated. Please use tf.compat.v1.Session instead.\n",
            "\n",
            "2021-01-05 09:51:10.055624: I tensorflow/core/platform/cpu_feature_guard.cc:142] Your CPU supports instructions that this TensorFlow binary was not compiled to use: AVX2 FMA\n",
            "2021-01-05 09:51:10.060012: I tensorflow/core/platform/profile_utils/cpu_utils.cc:94] CPU Frequency: 2300000000 Hz\n",
            "2021-01-05 09:51:10.060195: I tensorflow/compiler/xla/service/service.cc:168] XLA service 0x2c25640 initialized for platform Host (this does not guarantee that XLA will be used). Devices:\n",
            "2021-01-05 09:51:10.060224: I tensorflow/compiler/xla/service/service.cc:176]   StreamExecutor device (0): Host, Default Version\n",
            "2021-01-05 09:51:10.062047: I tensorflow/stream_executor/platform/default/dso_loader.cc:44] Successfully opened dynamic library libcuda.so.1\n",
            "2021-01-05 09:51:10.181304: I tensorflow/stream_executor/cuda/cuda_gpu_executor.cc:983] successful NUMA node read from SysFS had negative value (-1), but there must be at least one NUMA node, so returning NUMA node zero\n",
            "2021-01-05 09:51:10.181872: I tensorflow/compiler/xla/service/service.cc:168] XLA service 0x2c25d40 initialized for platform CUDA (this does not guarantee that XLA will be used). Devices:\n",
            "2021-01-05 09:51:10.181905: I tensorflow/compiler/xla/service/service.cc:176]   StreamExecutor device (0): Tesla P4, Compute Capability 6.1\n",
            "2021-01-05 09:51:10.182076: I tensorflow/stream_executor/cuda/cuda_gpu_executor.cc:983] successful NUMA node read from SysFS had negative value (-1), but there must be at least one NUMA node, so returning NUMA node zero\n",
            "2021-01-05 09:51:10.182486: I tensorflow/core/common_runtime/gpu/gpu_device.cc:1639] Found device 0 with properties: \n",
            "name: Tesla P4 major: 6 minor: 1 memoryClockRate(GHz): 1.1135\n",
            "pciBusID: 0000:00:04.0\n",
            "2021-01-05 09:51:10.182825: I tensorflow/stream_executor/platform/default/dso_loader.cc:44] Successfully opened dynamic library libcudart.so.10.0\n",
            "2021-01-05 09:51:10.183862: I tensorflow/stream_executor/platform/default/dso_loader.cc:44] Successfully opened dynamic library libcublas.so.10.0\n",
            "2021-01-05 09:51:10.184976: I tensorflow/stream_executor/platform/default/dso_loader.cc:44] Successfully opened dynamic library libcufft.so.10.0\n",
            "2021-01-05 09:51:10.185287: I tensorflow/stream_executor/platform/default/dso_loader.cc:44] Successfully opened dynamic library libcurand.so.10.0\n",
            "2021-01-05 09:51:10.187212: I tensorflow/stream_executor/platform/default/dso_loader.cc:44] Successfully opened dynamic library libcusolver.so.10.0\n",
            "2021-01-05 09:51:10.188460: I tensorflow/stream_executor/platform/default/dso_loader.cc:44] Successfully opened dynamic library libcusparse.so.10.0\n",
            "2021-01-05 09:51:10.191549: I tensorflow/stream_executor/platform/default/dso_loader.cc:44] Successfully opened dynamic library libcudnn.so.7\n",
            "2021-01-05 09:51:10.191668: I tensorflow/stream_executor/cuda/cuda_gpu_executor.cc:983] successful NUMA node read from SysFS had negative value (-1), but there must be at least one NUMA node, so returning NUMA node zero\n",
            "2021-01-05 09:51:10.192105: I tensorflow/stream_executor/cuda/cuda_gpu_executor.cc:983] successful NUMA node read from SysFS had negative value (-1), but there must be at least one NUMA node, so returning NUMA node zero\n",
            "2021-01-05 09:51:10.192507: I tensorflow/core/common_runtime/gpu/gpu_device.cc:1767] Adding visible gpu devices: 0\n",
            "2021-01-05 09:51:10.192576: I tensorflow/stream_executor/platform/default/dso_loader.cc:44] Successfully opened dynamic library libcudart.so.10.0\n",
            "2021-01-05 09:51:10.193566: I tensorflow/core/common_runtime/gpu/gpu_device.cc:1180] Device interconnect StreamExecutor with strength 1 edge matrix:\n",
            "2021-01-05 09:51:10.193595: I tensorflow/core/common_runtime/gpu/gpu_device.cc:1186]      0 \n",
            "2021-01-05 09:51:10.193607: I tensorflow/core/common_runtime/gpu/gpu_device.cc:1199] 0:   N \n",
            "2021-01-05 09:51:10.193718: I tensorflow/stream_executor/cuda/cuda_gpu_executor.cc:983] successful NUMA node read from SysFS had negative value (-1), but there must be at least one NUMA node, so returning NUMA node zero\n",
            "2021-01-05 09:51:10.194150: I tensorflow/stream_executor/cuda/cuda_gpu_executor.cc:983] successful NUMA node read from SysFS had negative value (-1), but there must be at least one NUMA node, so returning NUMA node zero\n",
            "2021-01-05 09:51:10.194532: I tensorflow/core/common_runtime/gpu/gpu_device.cc:1325] Created TensorFlow device (/job:localhost/replica:0/task:0/device:GPU:0 with 7123 MB memory) -> physical GPU (device: 0, name: Tesla P4, pci bus id: 0000:00:04.0, compute capability: 6.1)\n",
            "WARNING:tensorflow:From gpt2-generate.py:93: The name tf.placeholder is deprecated. Please use tf.compat.v1.placeholder instead.\n",
            "\n",
            "WARNING:tensorflow:From /content/gpt2-japanese/model.py:148: The name tf.variable_scope is deprecated. Please use tf.compat.v1.variable_scope instead.\n",
            "\n",
            "WARNING:tensorflow:From /content/gpt2-japanese/model.py:152: The name tf.get_variable is deprecated. Please use tf.compat.v1.get_variable instead.\n",
            "\n",
            "WARNING:tensorflow:From /content/gpt2-japanese/model.py:36: The name tf.rsqrt is deprecated. Please use tf.math.rsqrt instead.\n",
            "\n",
            "WARNING:tensorflow:From /content/gpt2-japanese/model.py:166: The name tf.add_to_collection is deprecated. Please use tf.compat.v1.add_to_collection instead.\n",
            "\n",
            "WARNING:tensorflow:From /content/gpt2-japanese/sampling.py:65: to_float (from tensorflow.python.ops.math_ops) is deprecated and will be removed in a future version.\n",
            "Instructions for updating:\n",
            "Use `tf.cast` instead.\n",
            "WARNING:tensorflow:From /content/gpt2-japanese/sampling.py:16: where (from tensorflow.python.ops.array_ops) is deprecated and will be removed in a future version.\n",
            "Instructions for updating:\n",
            "Use tf.where in 2.0, which has the same broadcast rule as np.where\n",
            "WARNING:tensorflow:From /content/gpt2-japanese/sampling.py:70: multinomial (from tensorflow.python.ops.random_ops) is deprecated and will be removed in a future version.\n",
            "Instructions for updating:\n",
            "Use `tf.random.categorical` instead.\n",
            "WARNING:tensorflow:From gpt2-generate.py:101: The name tf.train.Saver is deprecated. Please use tf.compat.v1.train.Saver instead.\n",
            "\n",
            "2021-01-05 09:51:21.236458: I tensorflow/stream_executor/platform/default/dso_loader.cc:44] Successfully opened dynamic library libcublas.so.10.0\n",
            "決めるのって嫌だなって」\n",
            "「あ、俺も好きだった」\n",
            "「そうそう、その時の俺、女の子の可愛さとか、すごかったよ……」\n",
            "その夜、二人は何もかも、本当に全て、全てを忘れるような、そんな気持ちで目を閉じた。\n",
            "\n",
            "========\n",
            "だなんて、笑えないわ」\n",
            "「……」\n",
            "確かに俺はそんなに女の子の髪形に気を取られすぎていたのか。\n",
            "確かに、髪がポニーテールというのは男心をくすぐる。\n",
            "しかし「可愛い」とか「カッコイイ」だとか言われるのを、嫌いになるような男は嫌いだ。\n",
            "「…いや、あのな、俺は別にそういうのは…」\n",
            "「ん…？」\n",
            "「……」\n",
            "そう言いつつも、俺は今の状況を考えていた。\n",
            "つまりは、もう一度このゲームから抜け出さないと。\n",
            "もう一回、ゲームをクリアするために、そのためにあの娘の話なんて聞こうだなんて虫がいいにもほどがある。\n",
            "ただ、俺は少し頭の中で考えた。\n",
            "…ゲームをクリアさせないと。\n",
            "『――――――』\n",
            "『――――――』\n",
            "『―――――――』\n",
            "俺がそんなことを考えていた少し後、\n",
            "―――\n",
            "「「「ごめぇい！！」」」\n",
            "そんな声が、いつの間にか会場に響き渡っていた。\n",
            "そして、二人の少女と一人の少年が同時に謝る。\n",
            "「あ、あの、どちらさまですか……？」\n",
            "「あ、あんた、いつの間にここに？」\n",
            "「いつもの所よ…もう、これで何度目か分からないから。……それにしても、あの娘…」\n",
            "「あんなのに、いつも声かけられていいの？」\n",
            "あの娘、というのは俺が一番\n",
            "========\n",
            "!!\n",
            "もう一回言うけどさ〜〜〜〜〜!!!  このままじゃ、俺の勝ちだってか????\n",
            "こんな男と結婚すんだぞ?!\n",
            "もう、やめろよ〜〜〜!! てか、こいつはなに?      なに言ってるんだよ\n",
            "「お前に絶対勝てない事なんて分かるんだよ……」\n",
            "え?    なんで……\n",
            "「だって、お前は絶対にモテないじゃん。」\n",
            "いやいやいや、だから、何を……\n",
            "「俺と、いい雰囲気に〜〜〜〜〜〜〜」みたいな顔して……マジ?      俺と真剣にお付き合いする気あるのか\n",
            "「あの〜〜……なんでなーに???」\n",
            "なんかさ、この男、俺に振られる前、なんか可愛く見えたんだ\n",
            "可愛いからやってみようと思った\n",
            "「あの〜さっきの言い方だと、俺に勝てる気がしなかったからなんて言いたいんですか??」\n",
            "「そうね……私もそう思ったけど、違ったわ。さっきも言い方悪かったから、もう一度、言うわよ。」\n",
            "「言うか!……」\n",
            "「だから、言ってみたの聞いて。」\n",
            "「あ、あぁ。」\n",
            "「もう、言い方が乱暴なんだから!」\n",
            "なんか言い方が気になってしまい、聞いた後すぐに言った\n",
            "「それ、俺じゃなかったぞ。」\n",
            "そう言った瞬間、\n",
            "「……嘘が下手ね」\n",
            "「なんだよ!まさか!」\n",
            "\n",
            "========\n",
            "。\n",
            "最後は、お昼を食べ終わった後……お姉ちゃんと一緒にトイレに行って、帰ってきたのが夕方。\n",
            "お姉ちゃんといっちょに、私はお昼ご飯を食べた。\n",
            "お昼ご飯の後、お風呂を使わせてもらって。\n",
            "私は、お風呂から上がって、お風呂から出て、さっきまで寝ていたベッドに横になりながら…………これは、誰に聞いても何を話しても、おかしい、っていうこと言われる言葉。\n",
            "だって、今日は、誰と誰が、お兄ちゃんが、お姉ちゃんが……お姉ちゃんは、私に何て言ったの？ っていうことでしょ！？\n",
            "私は、また、おかしいことを言った！ と一人で叫んだ。\n",
            "だって、だから、おかしいこと言ったって、おかしいでしょ！ 私も、お姉ちゃんと一緒にお風呂に入ったはずなのに！\n",
            "お兄ちゃんの名前も、お姉ちゃんとお姉ちゃんの好きな食べ物の名前も知ってる。\n",
            "でも、好きなことなんて一言だって言わない。\n",
            "何で、そんなに好きなことばっかり言うの？ お姉ちゃん。\n",
            "私はなんてことを聞かれたのでしょうか。\n",
            "そんなに、好きなことをいつも言って、お姉ちゃんは、それで満足なんて言えるはずはないの。\n",
            "好きなことに関しては、私にだって言えない理由を言ってるじゃない。\n",
            "私は、そ\n",
            "========\n",
            "、一番気持ち悪いこと言った奴が優勝というルールで、そこらへんに「お相手お疲れ様です」の文字がついていた。\n",
            "「何も言ってない」\n",
            "「別に。なんか変なもんでも食べた？」\n",
            "「お弁当と、なんかのご飯と」\n",
            "「え、なんの話。何の話、それ。あと、それほんとに言ってる？」\n",
            "お前も相当おカロリー足りてるんだよ…。\n",
            "ただでさえ、今は体重が増えすぎて体脂肪率が7%になっている。これ以上はヤバイと思っていた。それに、もしかしたらお兄ちゃんがお金のこととか、自分のこととか色々話しているのだって少し面倒で嫌だった。\n",
            "そのうち、気になって仕方がなくなってきたのだ。\n",
            "「そういや、前に、お兄ちゃんの彼女の話したよね」\n",
            "「そうだね。あれ。確かに聞いたな。なんだっけ、『私のこと好きなら、それはそれで嬉しいけど、ちょっと迷惑かも』的な」\n",
            "「え、それって……」\n",
            "「あぁ～。あれはね、ちょっと勘違いだった。私には彼女がいないから……って言ったの。それ以来、お兄ちゃんの彼女って言ってなかったから。私は別にぃ、なんにもしてないけど……」\n",
            "「お前、彼女いないの？」\n",
            "「いないよ。お兄ちゃんにも彼女がいるのかなっていうか……あれれ？ 何でそん\n"
          ],
          "name": "stdout"
        }
      ]
    }
  ]
}